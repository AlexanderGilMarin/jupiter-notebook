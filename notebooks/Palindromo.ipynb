{
 "cells": [
  {
   "cell_type": "markdown",
   "metadata": {},
   "source": [
    "![](../Imagenes/palindromo.png)"
   ]
  },
  {
   "cell_type": "markdown",
   "metadata": {},
   "source": [
    "Counter() Te devuelve la cantidad de valores en un string"
   ]
  },
  {
   "cell_type": "code",
   "execution_count": 1,
   "metadata": {},
   "outputs": [
    {
     "name": "stdout",
     "output_type": "stream",
     "text": [
      "Counter({'a': 3, 'b': 3, 'c': 3})\n"
     ]
    }
   ],
   "source": [
    "import math\n",
    "from collections import Counter\n",
    "str=\"aaabbbccc\"\n",
    "contador=Counter(str)\n",
    "print"
   ]
  },
  {
   "cell_type": "markdown",
   "metadata": {},
   "source": [
    ".values Devuelve solo los valores"
   ]
  },
  {
   "cell_type": "code",
   "execution_count": 3,
   "metadata": {},
   "outputs": [
    {
     "name": "stdout",
     "output_type": "stream",
     "text": [
      "dict_values([3, 3, 3])\n"
     ]
    }
   ],
   "source": [
    "import math\n",
    "from collections import Counter\n",
    "str=\"aaabbbccc\"\n",
    "contador=Counter(str)\n",
    "print(contador.values())"
   ]
  },
  {
   "cell_type": "markdown",
   "metadata": {},
   "source": [
    "Logica Del Ejercicio\n",
    "impares = sum(1 for contador in contador.values() if contador % 2 != 0)\n",
    "\n",
    "sum Suma 1  si un valor en contador es impar\n",
    "\n",
    "Si hay mas de un valor impar el numero no se puede permutar en un palindromo"
   ]
  }
 ],
 "metadata": {
  "kernelspec": {
   "display_name": "Python 3",
   "language": "python",
   "name": "python3"
  },
  "language_info": {
   "codemirror_mode": {
    "name": "ipython",
    "version": 3
   },
   "file_extension": ".py",
   "mimetype": "text/x-python",
   "name": "python",
   "nbconvert_exporter": "python",
   "pygments_lexer": "ipython3",
   "version": "3.12.6"
  }
 },
 "nbformat": 4,
 "nbformat_minor": 2
}
